{
 "cells": [
  {
   "cell_type": "code",
   "execution_count": 6,
   "metadata": {},
   "outputs": [
    {
     "name": "stdout",
     "output_type": "stream",
     "text": [
      "Enter number 14\n",
      "Enter number 26\n",
      "Enter input 31\n",
      "6 is larger\n"
     ]
    }
   ],
   "source": [
    "#find the largest of three numbers\n",
    "a1 = int(input('Enter number 1'))\n",
    "a2 = int (input('Enter number 2'))\n",
    "a3 = int (input('Enter input 3'))\n",
    "if a1>a2 and a2>a3:\n",
    "    print(a1, 'is larger')\n",
    "elif a2>a1 and a1>a3:\n",
    "        print(a2, 'is larger')\n",
    "elif :\n",
    "            print(a3, \"is larger\")"
   ]
  },
  {
   "cell_type": "code",
   "execution_count": 12,
   "metadata": {},
   "outputs": [
    {
     "name": "stdout",
     "output_type": "stream",
     "text": [
      "enter year2019\n",
      "not a leap year\n"
     ]
    }
   ],
   "source": [
    "#check for leap year or not\n",
    "year = int (input('enter year'))\n",
    "if year%400==0 or (year%100!=0 and year%4==0):\n",
    "    print ('it is a leap year')\n",
    "else:\n",
    "    print('not a leap year')        "
   ]
  },
  {
   "cell_type": "markdown",
   "metadata": {},
   "source": [
    "# iteration statements\n",
    "while for\n",
    "syntax\n",
    " while boolean_condition <br>\n",
    " statements\n",
    " increment/decrement"
   ]
  },
  {
   "cell_type": "code",
   "execution_count": 13,
   "metadata": {},
   "outputs": [
    {
     "name": "stdout",
     "output_type": "stream",
     "text": [
      "gitam\n",
      "gitam\n",
      "gitam\n",
      "gitam\n",
      "gitam\n"
     ]
    }
   ],
   "source": [
    "# Need print \"gitam for 5 times\"\n",
    "print('gitam')\n",
    "print ('gitam')\n",
    "print (\"gitam\")\n",
    "print ('gitam')\n",
    "print ('gitam')\n"
   ]
  },
  {
   "cell_type": "code",
   "execution_count": 2,
   "metadata": {},
   "outputs": [
    {
     "name": "stdout",
     "output_type": "stream",
     "text": [
      "Gitam\n",
      "Gitam\n",
      "Gitam\n",
      "Gitam\n",
      "Gitam\n"
     ]
    }
   ],
   "source": [
    "x=0\n",
    "while x<5 :\n",
    "    print(\"Gitam\")\n",
    "    x=x+1\n",
    "    "
   ]
  },
  {
   "cell_type": "code",
   "execution_count": 7,
   "metadata": {},
   "outputs": [
    {
     "name": "stdout",
     "output_type": "stream",
     "text": [
      "enter the value of n10\n",
      "1 2 3 4 5 6 7 8 9 10 "
     ]
    }
   ],
   "source": [
    "# print N natural numbers using while loop\n",
    "#input - 10\n",
    "# Output - 1 2 3 ..... 10\n",
    "n= int(input(\"enter the value of n\"))\n",
    "i=1\n",
    "while i<=n :\n",
    "    print(i,end=\" \")\n",
    "    i=i+1"
   ]
  },
  {
   "cell_type": "code",
   "execution_count": 2,
   "metadata": {},
   "outputs": [
    {
     "name": "stdout",
     "output_type": "stream",
     "text": [
      "enter the number10\n",
      "30\n"
     ]
    }
   ],
   "source": [
    "#read a number --n\n",
    "#add only even numbers between 1-n\n",
    "#input -- 10\n",
    "# output -- 30 (2 + 4 + 6 + 8 + 10)\n",
    "n= int(input(\"enter the number\"))\n",
    "i=1\n",
    "sum=0\n",
    "while i<=n:\n",
    "    if i%2==0 :\n",
    "        sum=sum+i\n",
    "    i=i+1\n",
    "print(sum)    \n",
    "\n",
    "    \n"
   ]
  },
  {
   "cell_type": "code",
   "execution_count": 2,
   "metadata": {
    "scrolled": true
   },
   "outputs": [
    {
     "name": "stdout",
     "output_type": "stream",
     "text": [
      "enter the number356\n",
      "6 5 3 "
     ]
    }
   ],
   "source": [
    "# Number as a number\n",
    "#print the digits of the given number : 3 2 1\n",
    "n=int(input(\"enter the number\"))\n",
    "while n!=0 :\n",
    "    r=n%10\n",
    "    print(r, end=\" \")\n",
    "    n=n//10\n"
   ]
  },
  {
   "cell_type": "markdown",
   "metadata": {},
   "source": [
    "functional programming\n",
    "simple \n",
    "easy to read\n",
    "lenghty program divides into sub programs"
   ]
  },
  {
   "cell_type": "markdown",
   "metadata": {},
   "source": [
    " def nameofthefunction(<parameters>):\n",
    "    Statement\n",
    "    return"
   ]
  },
  {
   "cell_type": "code",
   "execution_count": 11,
   "metadata": {},
   "outputs": [
    {
     "data": {
      "text/plain": [
       "6"
      ]
     },
     "execution_count": 11,
     "metadata": {},
     "output_type": "execute_result"
    }
   ],
   "source": [
    "# read a number --1234\n",
    "#output -- 6(2+4)\n",
    "def addevendigits(n):\n",
    "   #statements to compute the output of the program\n",
    "    sum=0\n",
    "    while n!=0:\n",
    "        r=n%10\n",
    "        if r%2==0:\n",
    "            sum=sum+r\n",
    "        n=n//10\n",
    "    return(sum)\n",
    "addevendigits(1234)"
   ]
  },
  {
   "cell_type": "code",
   "execution_count": 3,
   "metadata": {},
   "outputs": [
    {
     "data": {
      "text/plain": [
       "9"
      ]
     },
     "execution_count": 3,
     "metadata": {},
     "output_type": "execute_result"
    }
   ],
   "source": [
    "#read a number -- 19528\n",
    "#print large digit print the number\n",
    "def printlarge(n):\n",
    "    large=0\n",
    "    while n!=0:\n",
    "        r=n%10\n",
    "        if large<r:\n",
    "            large=r\n",
    "        n=n//10\n",
    "    return large\n",
    "printlarge(19528)\n"
   ]
  },
  {
   "cell_type": "code",
   "execution_count": 3,
   "metadata": {},
   "outputs": [
    {
     "data": {
      "text/plain": [
       "321"
      ]
     },
     "execution_count": 3,
     "metadata": {},
     "output_type": "execute_result"
    }
   ],
   "source": [
    "#read a number as input\n",
    "# output reverse of the given number\n",
    "#123 -- 321\n",
    "def reverseNumber(n):\n",
    "    rev=0\n",
    "    while n!=0:\n",
    "        r=n%10\n",
    "        rev=rev*10+r\n",
    "        n=n//10\n",
    "    return(rev)\n",
    "reverseNumber(123)"
   ]
  },
  {
   "cell_type": "code",
   "execution_count": 10,
   "metadata": {},
   "outputs": [
    {
     "name": "stdout",
     "output_type": "stream",
     "text": [
      "no\n",
      "yes\n"
     ]
    }
   ],
   "source": [
    "#given number is palindrome or not\n",
    "# input 123\n",
    "# output 321\n",
    "def ispalindrome(n):\n",
    "    pal=0\n",
    "    buffer=n\n",
    "    while n!=0:\n",
    "        r=n%10\n",
    "        pal=pal*10+r\n",
    "        n=n//10\n",
    "    if buffer==pal:\n",
    "        return \"yes\"\n",
    "    else:\n",
    "        return \"no\"\n",
    "\n",
    "print(ispalindrome(123))\n",
    "print(ispalindrome(121))"
   ]
  },
  {
   "cell_type": "code",
   "execution_count": 11,
   "metadata": {},
   "outputs": [
    {
     "name": "stdout",
     "output_type": "stream",
     "text": [
      "1 2 3 4 5 6 7 8 9 10 "
     ]
    }
   ],
   "source": [
    "#function to print n natural numbers with for loop\n",
    "def printNaturalNumbers(n):\n",
    "    for x in range(1,n+1):\n",
    "        print(x,end=\" \")\n",
    "    return\n",
    "printNaturalNumbers(10)\n",
    "        "
   ]
  },
  {
   "cell_type": "code",
   "execution_count": 12,
   "metadata": {},
   "outputs": [
    {
     "name": "stdout",
     "output_type": "stream",
     "text": [
      "11 12 13 14 15 16 17 18 19 20 21 22 23 24 25 "
     ]
    }
   ],
   "source": [
    "#function to print numbers between two limits\n",
    "#input : 11,25\n",
    "#output: 11 12 13 14 .....25\n",
    "def printNaturalNumbers(lb,ub):\n",
    "    for x in range(lb,ub+1):\n",
    "        print(x,end=\" \")\n",
    "    return\n",
    "printNaturalNumbers(11,25)\n",
    "        "
   ]
  },
  {
   "cell_type": "code",
   "execution_count": 14,
   "metadata": {},
   "outputs": [
    {
     "name": "stdout",
     "output_type": "stream",
     "text": [
      "500 502 504 506 508 510 512 514 516 518 520 100 102 104 106 108 110 112 114 116 118 120 122 124 126 128 130 132 134 136 138 140 142 144 146 148 150 "
     ]
    }
   ],
   "source": [
    "#Function to print alternate numbers\n",
    "#[500,520]--500 502 504 ...520\n",
    "#[100,150]--100 102 104...150\n",
    "def alternatenumbers(lb,ub):\n",
    "    for x in range(lb,ub+1,2):\n",
    "        print(x,end=\" \")\n",
    "    return\n",
    "alternatenumbers(500,520)\n",
    "alternatenumbers(100,150)"
   ]
  },
  {
   "cell_type": "code",
   "execution_count": 15,
   "metadata": {},
   "outputs": [
    {
     "name": "stdout",
     "output_type": "stream",
     "text": [
      "10 9 8 7 6 5 4 3 2 1 "
     ]
    }
   ],
   "source": [
    "#Function to print series in reverse\n",
    "#input -- 1 2 3 ... 10\n",
    "#output -- 10 9... 1\n",
    "def reverserange(start,end):\n",
    "    for x in range (end,start-1,-1):\n",
    "        print(x,end=\" \")\n",
    "    return\n",
    "reverserange(1,10)\n"
   ]
  },
  {
   "cell_type": "code",
   "execution_count": null,
   "metadata": {},
   "outputs": [],
   "source": []
  }
 ],
 "metadata": {
  "kernelspec": {
   "display_name": "Python 3",
   "language": "python",
   "name": "python3"
  },
  "language_info": {
   "codemirror_mode": {
    "name": "ipython",
    "version": 3
   },
   "file_extension": ".py",
   "mimetype": "text/x-python",
   "name": "python",
   "nbconvert_exporter": "python",
   "pygments_lexer": "ipython3",
   "version": "3.7.3"
  }
 },
 "nbformat": 4,
 "nbformat_minor": 2
}
