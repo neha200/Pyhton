{
 "cells": [
  {
   "cell_type": "markdown",
   "metadata": {},
   "source": [
    "### standard libraries\n",
    "- File I/O\n",
    "- Regular Expression\n",
    "- Datetime\n",
    "- Math(Numerical and mathematics)"
   ]
  },
  {
   "cell_type": "markdown",
   "metadata": {},
   "source": [
    "* write,Read,Analysis -- Data science and Analysis"
   ]
  },
  {
   "cell_type": "markdown",
   "metadata": {},
   "source": [
    "### File Handling in python\n",
    "- File:- Document containing information resides on the permanent storage\n",
    "- Different types of files:-txt,doc,pdf,csv and etc..\n",
    "- input:-keyboard\n",
    "- output:-file\n",
    "### Modes of the file I/O\n",
    "- 'w' -- This mode used to file writing\n",
    "      -- If the file is not present first it creates the file and write some data to it\n",
    "      -- If the file is already present then it will rewrite the previous content\n",
    "- 'r' -- This mode is used to read the data\n",
    "-      -- "
   ]
  },
  {
   "cell_type": "code",
   "execution_count": 1,
   "metadata": {},
   "outputs": [
    {
     "name": "stdout",
     "output_type": "stream",
     "text": [
      "File is created and data has written\n"
     ]
    }
   ],
   "source": [
    "# Function to create a file and write to the file\n",
    "def createfile(filename):\n",
    "    f=open(filename,'w')\n",
    "    for i in range (10):\n",
    "        f.write('This is %d Line\\n'%i)\n",
    "    print(\"File is created and data has written\")\n",
    "    return\n",
    "createfile(\"file1.txt\")"
   ]
  },
  {
   "cell_type": "code",
   "execution_count": 2,
   "metadata": {},
   "outputs": [
    {
     "name": "stdout",
     "output_type": "stream",
     "text": [
      " Volume in drive C has no label.\n",
      " Volume Serial Number is 64F8-544A\n",
      "\n",
      " Directory of C:\\Users\\245\n",
      "\n",
      "11-07-2019  09:37    <DIR>          .\n",
      "11-07-2019  09:37    <DIR>          ..\n",
      "07-05-2019  09:44    <DIR>          .anaconda\n",
      "17-03-2017  10:44               145 .appletviewer\n",
      "21-05-2019  16:41               775 .bash_history\n",
      "02-11-2017  15:19                 0 .cdtclient\n",
      "07-05-2019  09:59    <DIR>          .conda\n",
      "26-06-2019  16:51                43 .condarc\n",
      "21-05-2019  15:49                62 .gitconfig\n",
      "11-07-2019  09:05    <DIR>          .ipynb_checkpoints\n",
      "06-05-2019  09:43    <DIR>          .ipython\n",
      "09-05-2019  12:02    <DIR>          .jupyter\n",
      "18-05-2019  11:12    <DIR>          .matplotlib\n",
      "21-11-2018  11:25    <DIR>          .oracle_jre_usage\n",
      "15-05-2019  12:48    <DIR>          __pycache__\n",
      "11-07-2019  09:36             1,488 11-07-2019.ipynb\n",
      "10-07-2019  14:50            12,988 9-07-2019.ipynb\n",
      "08-05-2019  10:11    <DIR>          Anaconda3\n",
      "21-06-2019  04:33             1,025 arjun.ipynb\n",
      "09-05-2019  09:35    <DIR>          Contacts\n",
      "06-07-2019  15:48    <DIR>          Desktop\n",
      "08-07-2019  17:00    <DIR>          Documents\n",
      "28-06-2019  14:07    <DIR>          Downloads\n",
      "04-04-2017  12:03    <DIR>          exam\n",
      "09-05-2019  09:35    <DIR>          Favorites\n",
      "11-07-2019  09:37               160 file1.txt\n",
      "18-05-2019  15:59                 0 hack.csv\n",
      "09-05-2019  09:35    <DIR>          Links\n",
      "09-05-2019  09:35    <DIR>          Music\n",
      "09-05-2019  09:35    <DIR>          Pictures\n",
      "02-01-2017  10:09           186,102 proj class diagram.md~\n",
      "02-01-2017  11:23           186,108 proj class diagram.mdl\n",
      "11-07-2019  09:17            26,900 python (10-07-2019).ipynb\n",
      "08-07-2019  09:59             8,212 python Day 6(06-07-2019).ipynb\n",
      "08-07-2019  16:01            10,977 python day 8 (8-09-2019).ipynb\n",
      "19-05-2019  11:11    <DIR>          Python Programming\n",
      "15-05-2019  14:02               555 PythonScripts.ipynb\n",
      "11-01-2019  15:04           579,211 red-tulip-wallpapers-62192-3063278.jpg\n",
      "23-01-2017  09:28           187,644 s.mdl\n",
      "09-05-2019  09:35    <DIR>          Saved Games\n",
      "09-05-2019  09:35    <DIR>          Searches\n",
      "15-05-2019  17:14                48 srtingfunction.py\n",
      "24-06-2019  04:04             6,190 sup.ipynb\n",
      "12-05-2019  12:14    <DIR>          Untitled Folder\n",
      "12-05-2019  12:15    <DIR>          Untitled Folder 1\n",
      "16-05-2019  13:51    <DIR>          Untitled Folder 2\n",
      "15-05-2019  13:54    <DIR>          Untitled Folder 3\n",
      "06-05-2019  09:43                72 Untitled.ipynb\n",
      "08-05-2019  10:08                 0 untitled.txt\n",
      "07-05-2019  09:46                72 Untitled1.ipynb\n",
      "11-05-2019  15:01            10,076 Untitled10.ipynb\n",
      "12-05-2019  09:29                72 Untitled11.ipynb\n",
      "12-05-2019  11:30             2,470 Untitled12.ipynb\n",
      "13-05-2019  09:43             3,647 Untitled13.ipynb\n",
      "14-05-2019  11:13             1,231 Untitled14.ipynb\n",
      "18-05-2019  16:03             2,692 Untitled15.ipynb\n",
      "21-06-2019  20:56               818 Untitled16.ipynb\n",
      "21-06-2019  04:23               856 Untitled17.ipynb\n",
      "21-06-2019  05:26               555 Untitled18.ipynb\n",
      "21-06-2019  05:26               555 Untitled19.ipynb\n",
      "08-05-2019  12:29                72 Untitled2.ipynb\n",
      "21-06-2019  21:26                72 Untitled20.ipynb\n",
      "21-06-2019  23:13             3,167 Untitled21.ipynb\n",
      "21-06-2019  23:35                72 Untitled22.ipynb\n",
      "22-06-2019  02:46             1,508 Untitled23.ipynb\n",
      "23-06-2019  21:53             1,459 Untitled24.ipynb\n",
      "23-06-2019  21:32                72 Untitled25.ipynb\n",
      "25-06-2019  14:50             1,590 Untitled26.ipynb\n",
      "26-06-2019  16:48             1,011 Untitled27.ipynb\n",
      "06-07-2019  11:24                72 Untitled28.ipynb\n",
      "21-06-2019  23:19               555 Untitled3.ipynb\n",
      "08-05-2019  13:56                72 Untitled4.ipynb\n",
      "08-05-2019  13:58                72 Untitled5.ipynb\n",
      "08-05-2019  13:59                72 Untitled6.ipynb\n",
      "09-05-2019  09:43               796 Untitled7.ipynb\n",
      "09-05-2019  12:37             8,972 Untitled8.ipynb\n",
      "10-05-2019  10:55             2,863 Untitled9.ipynb\n",
      "09-05-2019  09:35    <DIR>          Videos\n",
      "02-01-2017  13:10    <DIR>          workspace\n",
      "02-01-2017  13:41    <DIR>          workspace1\n",
      "              50 File(s)      1,254,246 bytes\n",
      "              30 Dir(s)  77,942,419,456 bytes free\n"
     ]
    }
   ],
   "source": [
    "ls"
   ]
  },
  {
   "cell_type": "code",
   "execution_count": 3,
   "metadata": {},
   "outputs": [
    {
     "name": "stdout",
     "output_type": "stream",
     "text": [
      "File is created and data has written\n"
     ]
    }
   ],
   "source": [
    "def createfile(filename):\n",
    "    f=open(filename,'w')\n",
    "    for i in range (10):\n",
    "        f.write('Testing..\\n')\n",
    "    print(\"File is created and data has written\")\n",
    "    return\n",
    "createfile(\"file1.txt\")"
   ]
  },
  {
   "cell_type": "code",
   "execution_count": 6,
   "metadata": {},
   "outputs": [
    {
     "name": "stdout",
     "output_type": "stream",
     "text": [
      "File is created and data has written\n"
     ]
    }
   ],
   "source": [
    "def appenddata(filename):\n",
    "    f=open(filename,'a')\n",
    "    for i in range (10):\n",
    "        f.write('This is %d Line\\n'%i)\n",
    "    print(\"File is created and data has written\")\n",
    "    return\n",
    "appenddata('file2.txt')\n",
    "        "
   ]
  },
  {
   "cell_type": "code",
   "execution_count": 10,
   "metadata": {},
   "outputs": [
    {
     "name": "stdout",
     "output_type": "stream",
     "text": [
      "File is created and data has written\n"
     ]
    }
   ],
   "source": [
    "def appenddata(filename):\n",
    "    f=open(filename,'a')\n",
    "    f.write(\"New line 1 \\n\")\n",
    "    f.write(\"New line 2 \\n\")\n",
    "    print(\"File is created and data has written\")\n",
    "    return\n",
    "appenddata('file2.txt')\n"
   ]
  },
  {
   "cell_type": "code",
   "execution_count": 8,
   "metadata": {},
   "outputs": [
    {
     "name": "stdout",
     "output_type": "stream",
     "text": [
      "This is 0 Line\n",
      "This is 1 Line\n",
      "This is 2 Line\n",
      "This is 3 Line\n",
      "This is 4 Line\n",
      "This is 5 Line\n",
      "This is 6 Line\n",
      "This is 7 Line\n",
      "This is 8 Line\n",
      "This is 9 Line\n",
      "New line 1 \n",
      "New line 2 \n",
      "\n"
     ]
    }
   ],
   "source": [
    "#  Function to read the file data\n",
    "def readfiledata(filename):\n",
    "    f=open(filename,'r')\n",
    "    if f.mode=='r':\n",
    "        x=f.read()\n",
    "        print(x)\n",
    "    f.close()   \n",
    "    return     \n",
    "readfiledata('file2.txt')"
   ]
  },
  {
   "cell_type": "code",
   "execution_count": 12,
   "metadata": {},
   "outputs": [
    {
     "name": "stdout",
     "output_type": "stream",
     "text": [
      "enter the filenamedata.txt\n",
      "Enter the mode of the filea\n",
      "The data successfully written \n"
     ]
    }
   ],
   "source": [
    "# function to read the file\n",
    "def fileoperations(filename,mode):\n",
    "    with open(filename,mode) as f:\n",
    "        if f.mode=='r':\n",
    "            data=f.read()\n",
    "            print(data)\n",
    "        elif f.mode =='a':\n",
    "            f.write('data to the file')\n",
    "            print('The data successfully written ')\n",
    "    f.close()      \n",
    "    return\n",
    "filename=input('enter the filename')\n",
    "mode=input('Enter the mode of the file')\n",
    "fileoperations(filename,mode)"
   ]
  },
  {
   "cell_type": "code",
   "execution_count": 5,
   "metadata": {},
   "outputs": [
    {
     "name": "stdout",
     "output_type": "stream",
     "text": [
      "Enter the filenamefile1.txt\n",
      "Enter the word:Testing..\n"
     ]
    },
    {
     "data": {
      "text/plain": [
       "10"
      ]
     },
     "execution_count": 5,
     "metadata": {},
     "output_type": "execute_result"
    }
   ],
   "source": [
    "# Data Analysis \n",
    "# Word count program\n",
    "def wordcount(filename,word):\n",
    "    with open(filename,'r') as f:\n",
    "        if f.mode=='r':\n",
    "            x=f.read()\n",
    "            li=x.split() # It's splits the string with whitespace\n",
    "    cnt=li.count(word)       \n",
    "    return cnt\n",
    "filename=input('Enter the filename')\n",
    "word=input('Enter the word:')# which word count you need\n",
    "wordcount(filename,word)"
   ]
  },
  {
   "cell_type": "code",
   "execution_count": 7,
   "metadata": {},
   "outputs": [
    {
     "name": "stdout",
     "output_type": "stream",
     "text": [
      "Enter the filenamefile2.txt\n"
     ]
    },
    {
     "data": {
      "text/plain": [
       "214"
      ]
     },
     "execution_count": 7,
     "metadata": {},
     "output_type": "execute_result"
    }
   ],
   "source": [
    "# character count from the given file\n",
    "def charactercount(filename):\n",
    "    with open(filename,'r') as f:\n",
    "        if f.mode=='r':\n",
    "            x=f.read()\n",
    "            li=list(x)   # convert the string to character    \n",
    "    return len(li)\n",
    "filename=input('Enter the filename')\n",
    "charactercount(filename)"
   ]
  },
  {
   "cell_type": "code",
   "execution_count": 10,
   "metadata": {},
   "outputs": [
    {
     "name": "stdout",
     "output_type": "stream",
     "text": [
      "['Python', 'programming']\n"
     ]
    }
   ],
   "source": [
    "s1=\"Python programming\"\n",
    "print(s1.split())\n"
   ]
  },
  {
   "cell_type": "code",
   "execution_count": 12,
   "metadata": {},
   "outputs": [
    {
     "name": "stdout",
     "output_type": "stream",
     "text": [
      "Enter the filenamedata.txt\n"
     ]
    },
    {
     "data": {
      "text/plain": [
       "1"
      ]
     },
     "execution_count": 12,
     "metadata": {},
     "output_type": "execute_result"
    }
   ],
   "source": [
    "# Function to find the no.of lines in the input file\n",
    "def linecount(filename):\n",
    "    with open(filename,'r') as f:\n",
    "        if f.mode=='r':\n",
    "            x=f.read()\n",
    "            li=x.split(\"\\n\")\n",
    "    return len(li)\n",
    "filename=input('Enter the filename')\n",
    "linecount(filename)"
   ]
  },
  {
   "cell_type": "code",
   "execution_count": 13,
   "metadata": {},
   "outputs": [
    {
     "name": "stdout",
     "output_type": "stream",
     "text": [
      "Enter the filenamefile2.txt\n"
     ]
    },
    {
     "data": {
      "text/plain": [
       "'uppercase=24,Lowercase=117'"
      ]
     },
     "execution_count": 13,
     "metadata": {},
     "output_type": "execute_result"
    }
   ],
   "source": [
    "# Function to print upper and lower character count\n",
    "def casecount(filename):\n",
    "    cntupper=0\n",
    "    cntlower=0\n",
    "    with open(filename,'r') as f:\n",
    "        if f.mode=='r':\n",
    "            x=f.read()\n",
    "            li=list(x)\n",
    "    for i in li:\n",
    "        if i.isupper():\n",
    "            cntupper+=1 \n",
    "        elif i.islower():\n",
    "            cntlower+=1\n",
    "    output='uppercase={0},Lowercase={1}'.format(cntupper,cntlower)\n",
    "    return output\n",
    "filename=input('Enter the filename')\n",
    "casecount(filename)\n",
    "    "
   ]
  },
  {
   "cell_type": "markdown",
   "metadata": {},
   "source": [
    "### math,random,os\n",
    "* os package it contains the certain methods which works with os"
   ]
  },
  {
   "cell_type": "code",
   "execution_count": 14,
   "metadata": {},
   "outputs": [
    {
     "name": "stdout",
     "output_type": "stream",
     "text": [
      " Volume in drive C has no label.\n",
      " Volume Serial Number is 64F8-544A\n",
      "\n",
      " Directory of C:\\Users\\245\n",
      "\n",
      "11-07-2019  12:28    <DIR>          .\n",
      "11-07-2019  12:28    <DIR>          ..\n",
      "07-05-2019  09:44    <DIR>          .anaconda\n",
      "17-03-2017  10:44               145 .appletviewer\n",
      "21-05-2019  16:41               775 .bash_history\n",
      "02-11-2017  15:19                 0 .cdtclient\n",
      "07-05-2019  09:59    <DIR>          .conda\n",
      "26-06-2019  16:51                43 .condarc\n",
      "21-05-2019  15:49                62 .gitconfig\n",
      "11-07-2019  09:05    <DIR>          .ipynb_checkpoints\n",
      "06-05-2019  09:43    <DIR>          .ipython\n",
      "09-05-2019  12:02    <DIR>          .jupyter\n",
      "18-05-2019  11:12    <DIR>          .matplotlib\n",
      "21-11-2018  11:25    <DIR>          .oracle_jre_usage\n",
      "15-05-2019  12:48    <DIR>          __pycache__\n",
      "11-07-2019  12:28            14,797 11-07-2019.ipynb\n",
      "10-07-2019  14:50            12,988 9-07-2019.ipynb\n",
      "08-05-2019  10:11    <DIR>          Anaconda3\n",
      "21-06-2019  04:33             1,025 arjun.ipynb\n",
      "09-05-2019  09:35    <DIR>          Contacts\n",
      "11-07-2019  10:26                16 data.txt\n",
      "06-07-2019  15:48    <DIR>          Desktop\n",
      "08-07-2019  17:00    <DIR>          Documents\n",
      "28-06-2019  14:07    <DIR>          Downloads\n",
      "04-04-2017  12:03    <DIR>          exam\n",
      "09-05-2019  09:35    <DIR>          Favorites\n",
      "11-07-2019  09:47               110 file1.txt\n",
      "11-07-2019  10:25               228 file2.txt\n",
      "18-05-2019  15:59                 0 hack.csv\n",
      "09-05-2019  09:35    <DIR>          Links\n",
      "09-05-2019  09:35    <DIR>          Music\n",
      "09-05-2019  09:35    <DIR>          Pictures\n",
      "02-01-2017  10:09           186,102 proj class diagram.md~\n",
      "02-01-2017  11:23           186,108 proj class diagram.mdl\n",
      "11-07-2019  09:17            26,900 python (10-07-2019).ipynb\n",
      "08-07-2019  09:59             8,212 python Day 6(06-07-2019).ipynb\n",
      "08-07-2019  16:01            10,977 python day 8 (8-09-2019).ipynb\n",
      "19-05-2019  11:11    <DIR>          Python Programming\n",
      "15-05-2019  14:02               555 PythonScripts.ipynb\n",
      "11-01-2019  15:04           579,211 red-tulip-wallpapers-62192-3063278.jpg\n",
      "23-01-2017  09:28           187,644 s.mdl\n",
      "09-05-2019  09:35    <DIR>          Saved Games\n",
      "09-05-2019  09:35    <DIR>          Searches\n",
      "15-05-2019  17:14                48 srtingfunction.py\n",
      "24-06-2019  04:04             6,190 sup.ipynb\n",
      "12-05-2019  12:14    <DIR>          Untitled Folder\n",
      "12-05-2019  12:15    <DIR>          Untitled Folder 1\n",
      "16-05-2019  13:51    <DIR>          Untitled Folder 2\n",
      "15-05-2019  13:54    <DIR>          Untitled Folder 3\n",
      "06-05-2019  09:43                72 Untitled.ipynb\n",
      "08-05-2019  10:08                 0 untitled.txt\n",
      "07-05-2019  09:46                72 Untitled1.ipynb\n",
      "11-05-2019  15:01            10,076 Untitled10.ipynb\n",
      "12-05-2019  09:29                72 Untitled11.ipynb\n",
      "12-05-2019  11:30             2,470 Untitled12.ipynb\n",
      "13-05-2019  09:43             3,647 Untitled13.ipynb\n",
      "14-05-2019  11:13             1,231 Untitled14.ipynb\n",
      "18-05-2019  16:03             2,692 Untitled15.ipynb\n",
      "21-06-2019  20:56               818 Untitled16.ipynb\n",
      "21-06-2019  04:23               856 Untitled17.ipynb\n",
      "21-06-2019  05:26               555 Untitled18.ipynb\n",
      "21-06-2019  05:26               555 Untitled19.ipynb\n",
      "08-05-2019  12:29                72 Untitled2.ipynb\n",
      "21-06-2019  21:26                72 Untitled20.ipynb\n",
      "21-06-2019  23:13             3,167 Untitled21.ipynb\n",
      "21-06-2019  23:35                72 Untitled22.ipynb\n",
      "22-06-2019  02:46             1,508 Untitled23.ipynb\n",
      "23-06-2019  21:53             1,459 Untitled24.ipynb\n",
      "23-06-2019  21:32                72 Untitled25.ipynb\n",
      "25-06-2019  14:50             1,590 Untitled26.ipynb\n",
      "26-06-2019  16:48             1,011 Untitled27.ipynb\n",
      "06-07-2019  11:24                72 Untitled28.ipynb\n",
      "21-06-2019  23:19               555 Untitled3.ipynb\n",
      "08-05-2019  13:56                72 Untitled4.ipynb\n",
      "08-05-2019  13:58                72 Untitled5.ipynb\n",
      "08-05-2019  13:59                72 Untitled6.ipynb\n",
      "09-05-2019  09:43               796 Untitled7.ipynb\n",
      "09-05-2019  12:37             8,972 Untitled8.ipynb\n",
      "10-05-2019  10:55             2,863 Untitled9.ipynb\n",
      "09-05-2019  09:35    <DIR>          Videos\n",
      "02-01-2017  13:10    <DIR>          workspace\n",
      "02-01-2017  13:41    <DIR>          workspace1\n",
      "              52 File(s)      1,267,749 bytes\n",
      "              30 Dir(s)  77,911,572,480 bytes free\n"
     ]
    }
   ],
   "source": [
    "ls"
   ]
  },
  {
   "cell_type": "code",
   "execution_count": 16,
   "metadata": {
    "scrolled": false
   },
   "outputs": [
    {
     "name": "stdout",
     "output_type": "stream",
     "text": [
      "[WinError 3] The system cannot find the path specified: 'Desktop/pythonprog/Git'\n",
      "C:\\Users\\245\n"
     ]
    }
   ],
   "source": [
    "cd Desktop/pythonprog/Git"
   ]
  },
  {
   "cell_type": "code",
   "execution_count": 18,
   "metadata": {
    "scrolled": false
   },
   "outputs": [
    {
     "ename": "FileNotFoundError",
     "evalue": "[WinError 3] The system cannot find the path specified: 'Git/'",
     "output_type": "error",
     "traceback": [
      "\u001b[1;31m---------------------------------------------------------------------------\u001b[0m",
      "\u001b[1;31mFileNotFoundError\u001b[0m                         Traceback (most recent call last)",
      "\u001b[1;32m<ipython-input-18-5c8a6f0efcc2>\u001b[0m in \u001b[0;36m<module>\u001b[1;34m\u001b[0m\n\u001b[0;32m      1\u001b[0m \u001b[1;32mimport\u001b[0m \u001b[0mos\u001b[0m\u001b[1;33m\u001b[0m\u001b[1;33m\u001b[0m\u001b[0m\n\u001b[1;32m----> 2\u001b[1;33m \u001b[0mli\u001b[0m\u001b[1;33m=\u001b[0m\u001b[0mos\u001b[0m\u001b[1;33m.\u001b[0m\u001b[0mlistdir\u001b[0m\u001b[1;33m(\u001b[0m\u001b[1;34m'Git/'\u001b[0m\u001b[1;33m)\u001b[0m\u001b[1;33m\u001b[0m\u001b[1;33m\u001b[0m\u001b[0m\n\u001b[0m\u001b[0;32m      3\u001b[0m \u001b[1;32mfor\u001b[0m \u001b[0mi\u001b[0m \u001b[1;32min\u001b[0m \u001b[0mli\u001b[0m\u001b[1;33m:\u001b[0m\u001b[1;33m\u001b[0m\u001b[1;33m\u001b[0m\u001b[0m\n\u001b[0;32m      4\u001b[0m     \u001b[0mprint\u001b[0m\u001b[1;33m(\u001b[0m\u001b[0mi\u001b[0m\u001b[1;33m)\u001b[0m\u001b[1;33m\u001b[0m\u001b[1;33m\u001b[0m\u001b[0m\n",
      "\u001b[1;31mFileNotFoundError\u001b[0m: [WinError 3] The system cannot find the path specified: 'Git/'"
     ]
    }
   ],
   "source": [
    "import os\n",
    "li=os.listdir('Git/')\n",
    "for i in li:\n",
    "    print(i)"
   ]
  },
  {
   "cell_type": "markdown",
   "metadata": {},
   "source": [
    "- Older version python -- os.listdir()\n",
    "- New version python --"
   ]
  },
  {
   "cell_type": "code",
   "execution_count": null,
   "metadata": {},
   "outputs": [],
   "source": [
    "from pathlib import path\n",
    "li=path('git\\')\n",
    "for i in li.iterdir()\n",
    "        print(i.name)"
   ]
  },
  {
   "cell_type": "markdown",
   "metadata": {},
   "source": [
    "### Listing all files in a directory"
   ]
  },
  {
   "cell_type": "code",
   "execution_count": 20,
   "metadata": {},
   "outputs": [
    {
     "ename": "FileNotFoundError",
     "evalue": "[WinError 3] The system cannot find the path specified: 'users/'",
     "output_type": "error",
     "traceback": [
      "\u001b[1;31m---------------------------------------------------------------------------\u001b[0m",
      "\u001b[1;31mFileNotFoundError\u001b[0m                         Traceback (most recent call last)",
      "\u001b[1;32m<ipython-input-20-34a343f4eea9>\u001b[0m in \u001b[0;36m<module>\u001b[1;34m\u001b[0m\n\u001b[0;32m      1\u001b[0m \u001b[1;32mimport\u001b[0m \u001b[0mos\u001b[0m\u001b[1;33m\u001b[0m\u001b[1;33m\u001b[0m\u001b[0m\n\u001b[0;32m      2\u001b[0m \u001b[0mdirpath\u001b[0m\u001b[1;33m=\u001b[0m\u001b[1;34m\"users/\"\u001b[0m\u001b[1;33m\u001b[0m\u001b[1;33m\u001b[0m\u001b[0m\n\u001b[1;32m----> 3\u001b[1;33m \u001b[1;32mfor\u001b[0m \u001b[0mi\u001b[0m \u001b[1;32min\u001b[0m \u001b[0mos\u001b[0m\u001b[1;33m.\u001b[0m\u001b[0mlistdir\u001b[0m\u001b[1;33m(\u001b[0m\u001b[0mdirpath\u001b[0m\u001b[1;33m)\u001b[0m\u001b[1;33m:\u001b[0m \u001b[1;31m# All files and folder\u001b[0m\u001b[1;33m\u001b[0m\u001b[1;33m\u001b[0m\u001b[0m\n\u001b[0m\u001b[0;32m      4\u001b[0m     \u001b[1;32mif\u001b[0m \u001b[0mos\u001b[0m\u001b[1;33m.\u001b[0m\u001b[0mpath\u001b[0m\u001b[1;33m.\u001b[0m\u001b[0misfile\u001b[0m\u001b[1;33m(\u001b[0m\u001b[0mos\u001b[0m\u001b[1;33m.\u001b[0m\u001b[0mpath\u001b[0m\u001b[1;33m.\u001b[0m\u001b[0mjoin\u001b[0m\u001b[1;33m(\u001b[0m\u001b[0mdirpath\u001b[0m\u001b[1;33m,\u001b[0m\u001b[0mi\u001b[0m\u001b[1;33m)\u001b[0m\u001b[1;33m)\u001b[0m\u001b[1;33m:\u001b[0m\u001b[1;33m\u001b[0m\u001b[1;33m\u001b[0m\u001b[0m\n\u001b[0;32m      5\u001b[0m         \u001b[0mprint\u001b[0m\u001b[1;33m(\u001b[0m\u001b[0mi\u001b[0m\u001b[1;33m)\u001b[0m\u001b[1;33m\u001b[0m\u001b[1;33m\u001b[0m\u001b[0m\n",
      "\u001b[1;31mFileNotFoundError\u001b[0m: [WinError 3] The system cannot find the path specified: 'users/'"
     ]
    }
   ],
   "source": [
    "import os\n",
    "dirpath=\"Git/\"\n",
    "for i in os.listdir(dirpath): # All files and folder \n",
    "    if os.path.isfile(os.path.join(dirpath,i)):\n",
    "        print(i)"
   ]
  },
  {
   "cell_type": "markdown",
   "metadata": {},
   "source": [
    "###      Listing sub directories                                                                "
   ]
  },
  {
   "cell_type": "code",
   "execution_count": null,
   "metadata": {},
   "outputs": [],
   "source": [
    "from pathlib import path\n",
    "dirpath='git/'\n",
    "for i in dirpath,iterdir():\n",
    "    if i.is_dir():\n",
    "        print(i.name)"
   ]
  },
  {
   "cell_type": "code",
   "execution_count": null,
   "metadata": {},
   "outputs": [],
   "source": [
    "dirpath='Git/'\n",
    "with os.scandir(dirpath) as f:\n",
    "    for i in f:\n",
    "        if i.isdir():\n",
    "            print(i.name)"
   ]
  },
  {
   "cell_type": "markdown",
   "metadata": {},
   "source": [
    "### Creating a single directory"
   ]
  },
  {
   "cell_type": "code",
   "execution_count": 23,
   "metadata": {},
   "outputs": [
    {
     "ename": "FileExistsError",
     "evalue": "[WinError 183] Cannot create a file when that file already exists: 'singleDirectory'",
     "output_type": "error",
     "traceback": [
      "\u001b[1;31m---------------------------------------------------------------------------\u001b[0m",
      "\u001b[1;31mFileExistsError\u001b[0m                           Traceback (most recent call last)",
      "\u001b[1;32m<ipython-input-23-a51928b52831>\u001b[0m in \u001b[0;36m<module>\u001b[1;34m\u001b[0m\n\u001b[0;32m      1\u001b[0m \u001b[1;32mimport\u001b[0m \u001b[0mos\u001b[0m\u001b[1;33m\u001b[0m\u001b[1;33m\u001b[0m\u001b[0m\n\u001b[1;32m----> 2\u001b[1;33m \u001b[0mos\u001b[0m\u001b[1;33m.\u001b[0m\u001b[0mmkdir\u001b[0m\u001b[1;33m(\u001b[0m\u001b[1;34m'singleDirectory'\u001b[0m\u001b[1;33m)\u001b[0m\u001b[1;33m\u001b[0m\u001b[1;33m\u001b[0m\u001b[0m\n\u001b[0m",
      "\u001b[1;31mFileExistsError\u001b[0m: [WinError 183] Cannot create a file when that file already exists: 'singleDirectory'"
     ]
    }
   ],
   "source": [
    "import os\n",
    "os.mkdir('singleDirectory')"
   ]
  },
  {
   "cell_type": "code",
   "execution_count": 30,
   "metadata": {},
   "outputs": [],
   "source": [
    "import pathlib\n",
    "p=pathlib.Path('testfolder')\n",
    "p.mkdir()"
   ]
  },
  {
   "cell_type": "code",
   "execution_count": 31,
   "metadata": {},
   "outputs": [
    {
     "name": "stdout",
     "output_type": "stream",
     "text": [
      "C:\\Users\\245\\testfolder\n"
     ]
    }
   ],
   "source": [
    "cd testfolder"
   ]
  },
  {
   "cell_type": "code",
   "execution_count": 32,
   "metadata": {},
   "outputs": [
    {
     "data": {
      "text/plain": [
       "'C:\\\\Users\\\\245\\\\testfolder'"
      ]
     },
     "execution_count": 32,
     "metadata": {},
     "output_type": "execute_result"
    }
   ],
   "source": [
    "pwd"
   ]
  },
  {
   "cell_type": "code",
   "execution_count": 22,
   "metadata": {},
   "outputs": [
    {
     "name": "stdout",
     "output_type": "stream",
     "text": [
      " Volume in drive C has no label.\n",
      " Volume Serial Number is 64F8-544A\n",
      "\n",
      " Directory of C:\\Users\\245\n",
      "\n",
      "11-07-2019  14:48    <DIR>          .\n",
      "11-07-2019  14:48    <DIR>          ..\n",
      "07-05-2019  09:44    <DIR>          .anaconda\n",
      "17-03-2017  10:44               145 .appletviewer\n",
      "21-05-2019  16:41               775 .bash_history\n",
      "02-11-2017  15:19                 0 .cdtclient\n",
      "07-05-2019  09:59    <DIR>          .conda\n",
      "26-06-2019  16:51                43 .condarc\n",
      "21-05-2019  15:49                62 .gitconfig\n",
      "11-07-2019  09:05    <DIR>          .ipynb_checkpoints\n",
      "06-05-2019  09:43    <DIR>          .ipython\n",
      "09-05-2019  12:02    <DIR>          .jupyter\n",
      "18-05-2019  11:12    <DIR>          .matplotlib\n",
      "21-11-2018  11:25    <DIR>          .oracle_jre_usage\n",
      "15-05-2019  12:48    <DIR>          __pycache__\n",
      "11-07-2019  14:48            26,297 11-07-2019.ipynb\n",
      "10-07-2019  14:50            12,988 9-07-2019.ipynb\n",
      "08-05-2019  10:11    <DIR>          Anaconda3\n",
      "21-06-2019  04:33             1,025 arjun.ipynb\n",
      "09-05-2019  09:35    <DIR>          Contacts\n",
      "11-07-2019  10:26                16 data.txt\n",
      "06-07-2019  15:48    <DIR>          Desktop\n",
      "08-07-2019  17:00    <DIR>          Documents\n",
      "28-06-2019  14:07    <DIR>          Downloads\n",
      "04-04-2017  12:03    <DIR>          exam\n",
      "09-05-2019  09:35    <DIR>          Favorites\n",
      "11-07-2019  09:47               110 file1.txt\n",
      "11-07-2019  10:25               228 file2.txt\n",
      "18-05-2019  15:59                 0 hack.csv\n",
      "09-05-2019  09:35    <DIR>          Links\n",
      "09-05-2019  09:35    <DIR>          Music\n",
      "09-05-2019  09:35    <DIR>          Pictures\n",
      "02-01-2017  10:09           186,102 proj class diagram.md~\n",
      "02-01-2017  11:23           186,108 proj class diagram.mdl\n",
      "11-07-2019  09:17            26,900 python (10-07-2019).ipynb\n",
      "08-07-2019  09:59             8,212 python Day 6(06-07-2019).ipynb\n",
      "08-07-2019  16:01            10,977 python day 8 (8-09-2019).ipynb\n",
      "19-05-2019  11:11    <DIR>          Python Programming\n",
      "15-05-2019  14:02               555 PythonScripts.ipynb\n",
      "11-01-2019  15:04           579,211 red-tulip-wallpapers-62192-3063278.jpg\n",
      "23-01-2017  09:28           187,644 s.mdl\n",
      "09-05-2019  09:35    <DIR>          Saved Games\n",
      "09-05-2019  09:35    <DIR>          Searches\n",
      "11-07-2019  14:45    <DIR>          singleDirectory\n",
      "15-05-2019  17:14                48 srtingfunction.py\n",
      "24-06-2019  04:04             6,190 sup.ipynb\n",
      "12-05-2019  12:14    <DIR>          Untitled Folder\n",
      "12-05-2019  12:15    <DIR>          Untitled Folder 1\n",
      "16-05-2019  13:51    <DIR>          Untitled Folder 2\n",
      "15-05-2019  13:54    <DIR>          Untitled Folder 3\n",
      "06-05-2019  09:43                72 Untitled.ipynb\n",
      "08-05-2019  10:08                 0 untitled.txt\n",
      "07-05-2019  09:46                72 Untitled1.ipynb\n",
      "11-05-2019  15:01            10,076 Untitled10.ipynb\n",
      "12-05-2019  09:29                72 Untitled11.ipynb\n",
      "12-05-2019  11:30             2,470 Untitled12.ipynb\n",
      "13-05-2019  09:43             3,647 Untitled13.ipynb\n",
      "14-05-2019  11:13             1,231 Untitled14.ipynb\n",
      "18-05-2019  16:03             2,692 Untitled15.ipynb\n",
      "21-06-2019  20:56               818 Untitled16.ipynb\n",
      "21-06-2019  04:23               856 Untitled17.ipynb\n",
      "21-06-2019  05:26               555 Untitled18.ipynb\n",
      "21-06-2019  05:26               555 Untitled19.ipynb\n",
      "08-05-2019  12:29                72 Untitled2.ipynb\n",
      "21-06-2019  21:26                72 Untitled20.ipynb\n",
      "21-06-2019  23:13             3,167 Untitled21.ipynb\n",
      "21-06-2019  23:35                72 Untitled22.ipynb\n",
      "22-06-2019  02:46             1,508 Untitled23.ipynb\n",
      "23-06-2019  21:53             1,459 Untitled24.ipynb\n",
      "23-06-2019  21:32                72 Untitled25.ipynb\n",
      "25-06-2019  14:50             1,590 Untitled26.ipynb\n",
      "26-06-2019  16:48             1,011 Untitled27.ipynb\n",
      "06-07-2019  11:24                72 Untitled28.ipynb\n",
      "21-06-2019  23:19               555 Untitled3.ipynb\n",
      "08-05-2019  13:56                72 Untitled4.ipynb\n",
      "08-05-2019  13:58                72 Untitled5.ipynb\n",
      "08-05-2019  13:59                72 Untitled6.ipynb\n",
      "09-05-2019  09:43               796 Untitled7.ipynb\n",
      "09-05-2019  12:37             8,972 Untitled8.ipynb\n",
      "10-05-2019  10:55             2,863 Untitled9.ipynb\n",
      "09-05-2019  09:35    <DIR>          Videos\n",
      "02-01-2017  13:10    <DIR>          workspace\n",
      "02-01-2017  13:41    <DIR>          workspace1\n",
      "              52 File(s)      1,279,249 bytes\n",
      "              31 Dir(s)  77,904,154,624 bytes free\n"
     ]
    }
   ],
   "source": [
    "ls"
   ]
  },
  {
   "cell_type": "markdown",
   "metadata": {},
   "source": [
    "### Creating Multipe directories"
   ]
  },
  {
   "cell_type": "code",
   "execution_count": 35,
   "metadata": {},
   "outputs": [
    {
     "ename": "FileExistsError",
     "evalue": "[WinError 183] Cannot create a file when that file already exists: '2019/july/11'",
     "output_type": "error",
     "traceback": [
      "\u001b[1;31m---------------------------------------------------------------------------\u001b[0m",
      "\u001b[1;31mFileExistsError\u001b[0m                           Traceback (most recent call last)",
      "\u001b[1;32m<ipython-input-35-8441ac7d67b5>\u001b[0m in \u001b[0;36m<module>\u001b[1;34m\u001b[0m\n\u001b[0;32m      1\u001b[0m \u001b[1;32mimport\u001b[0m \u001b[0mos\u001b[0m\u001b[1;33m\u001b[0m\u001b[1;33m\u001b[0m\u001b[0m\n\u001b[1;32m----> 2\u001b[1;33m \u001b[0mos\u001b[0m\u001b[1;33m.\u001b[0m\u001b[0mmakedirs\u001b[0m\u001b[1;33m(\u001b[0m\u001b[1;34m'2019/july/11'\u001b[0m\u001b[1;33m)\u001b[0m\u001b[1;33m\u001b[0m\u001b[1;33m\u001b[0m\u001b[0m\n\u001b[0m",
      "\u001b[1;32m~\\Anaconda3\\lib\\os.py\u001b[0m in \u001b[0;36mmakedirs\u001b[1;34m(name, mode, exist_ok)\u001b[0m\n\u001b[0;32m    219\u001b[0m             \u001b[1;32mreturn\u001b[0m\u001b[1;33m\u001b[0m\u001b[1;33m\u001b[0m\u001b[0m\n\u001b[0;32m    220\u001b[0m     \u001b[1;32mtry\u001b[0m\u001b[1;33m:\u001b[0m\u001b[1;33m\u001b[0m\u001b[1;33m\u001b[0m\u001b[0m\n\u001b[1;32m--> 221\u001b[1;33m         \u001b[0mmkdir\u001b[0m\u001b[1;33m(\u001b[0m\u001b[0mname\u001b[0m\u001b[1;33m,\u001b[0m \u001b[0mmode\u001b[0m\u001b[1;33m)\u001b[0m\u001b[1;33m\u001b[0m\u001b[1;33m\u001b[0m\u001b[0m\n\u001b[0m\u001b[0;32m    222\u001b[0m     \u001b[1;32mexcept\u001b[0m \u001b[0mOSError\u001b[0m\u001b[1;33m:\u001b[0m\u001b[1;33m\u001b[0m\u001b[1;33m\u001b[0m\u001b[0m\n\u001b[0;32m    223\u001b[0m         \u001b[1;31m# Cannot rely on checking for EEXIST, since the operating system\u001b[0m\u001b[1;33m\u001b[0m\u001b[1;33m\u001b[0m\u001b[1;33m\u001b[0m\u001b[0m\n",
      "\u001b[1;31mFileExistsError\u001b[0m: [WinError 183] Cannot create a file when that file already exists: '2019/july/11'"
     ]
    }
   ],
   "source": [
    "import os\n",
    "os.makedirs('2019/july/11')"
   ]
  },
  {
   "cell_type": "code",
   "execution_count": 34,
   "metadata": {},
   "outputs": [
    {
     "data": {
      "text/plain": [
       "'C:\\\\Users\\\\245\\\\testfolder'"
      ]
     },
     "execution_count": 34,
     "metadata": {},
     "output_type": "execute_result"
    }
   ],
   "source": [
    "pwd"
   ]
  },
  {
   "cell_type": "markdown",
   "metadata": {},
   "source": [
    "###  Filename  pattern Matching"
   ]
  },
  {
   "cell_type": "code",
   "execution_count": 36,
   "metadata": {
    "scrolled": true
   },
   "outputs": [
    {
     "ename": "FileNotFoundError",
     "evalue": "[WinError 3] The system cannot find the path specified: 'Git/'",
     "output_type": "error",
     "traceback": [
      "\u001b[1;31m---------------------------------------------------------------------------\u001b[0m",
      "\u001b[1;31mFileNotFoundError\u001b[0m                         Traceback (most recent call last)",
      "\u001b[1;32m<ipython-input-36-39e5f0661629>\u001b[0m in \u001b[0;36m<module>\u001b[1;34m\u001b[0m\n\u001b[0;32m      1\u001b[0m \u001b[1;32mimport\u001b[0m \u001b[0mos\u001b[0m\u001b[1;33m\u001b[0m\u001b[1;33m\u001b[0m\u001b[0m\n\u001b[0;32m      2\u001b[0m \u001b[0mdirpath\u001b[0m\u001b[1;33m=\u001b[0m\u001b[1;34m'Git/'\u001b[0m\u001b[1;33m\u001b[0m\u001b[1;33m\u001b[0m\u001b[0m\n\u001b[1;32m----> 3\u001b[1;33m \u001b[1;32mfor\u001b[0m \u001b[0mf_name\u001b[0m \u001b[1;32min\u001b[0m \u001b[0mos\u001b[0m\u001b[1;33m.\u001b[0m\u001b[0mlistdir\u001b[0m\u001b[1;33m(\u001b[0m\u001b[0mdirpath\u001b[0m\u001b[1;33m)\u001b[0m\u001b[1;33m:\u001b[0m\u001b[1;33m\u001b[0m\u001b[1;33m\u001b[0m\u001b[0m\n\u001b[0m\u001b[0;32m      4\u001b[0m     \u001b[1;32mif\u001b[0m \u001b[0mf_name\u001b[0m\u001b[1;33m.\u001b[0m\u001b[0mendswidth\u001b[0m\u001b[1;33m(\u001b[0m\u001b[1;34m'.ipynb'\u001b[0m\u001b[1;33m)\u001b[0m\u001b[1;33m:\u001b[0m\u001b[1;33m\u001b[0m\u001b[1;33m\u001b[0m\u001b[0m\n\u001b[0;32m      5\u001b[0m         \u001b[0mprint\u001b[0m\u001b[1;33m(\u001b[0m\u001b[0mf_name\u001b[0m\u001b[1;33m)\u001b[0m\u001b[1;33m\u001b[0m\u001b[1;33m\u001b[0m\u001b[0m\n",
      "\u001b[1;31mFileNotFoundError\u001b[0m: [WinError 3] The system cannot find the path specified: 'Git/'"
     ]
    }
   ],
   "source": [
    "import os\n",
    "dirpath='Git/'\n",
    "for f_name in os.listdir(dirpath):\n",
    "    if f_name.endswith('.ipynb'):\n",
    "        print(f_name)"
   ]
  },
  {
   "cell_type": "code",
   "execution_count": 37,
   "metadata": {},
   "outputs": [
    {
     "ename": "FileNotFoundError",
     "evalue": "[WinError 3] The system cannot find the path specified: 'testfolder/'",
     "output_type": "error",
     "traceback": [
      "\u001b[1;31m---------------------------------------------------------------------------\u001b[0m",
      "\u001b[1;31mFileNotFoundError\u001b[0m                         Traceback (most recent call last)",
      "\u001b[1;32m<ipython-input-37-35ee597bcb0a>\u001b[0m in \u001b[0;36m<module>\u001b[1;34m\u001b[0m\n\u001b[0;32m      1\u001b[0m \u001b[1;32mimport\u001b[0m \u001b[0mos\u001b[0m\u001b[1;33m\u001b[0m\u001b[1;33m\u001b[0m\u001b[0m\n\u001b[0;32m      2\u001b[0m \u001b[0mdirpath\u001b[0m\u001b[1;33m=\u001b[0m\u001b[1;34m'testfolder/'\u001b[0m\u001b[1;33m\u001b[0m\u001b[1;33m\u001b[0m\u001b[0m\n\u001b[1;32m----> 3\u001b[1;33m \u001b[1;32mfor\u001b[0m \u001b[0mf_name\u001b[0m \u001b[1;32min\u001b[0m \u001b[0mos\u001b[0m\u001b[1;33m.\u001b[0m\u001b[0mlistdir\u001b[0m\u001b[1;33m(\u001b[0m\u001b[0mdirpath\u001b[0m\u001b[1;33m)\u001b[0m\u001b[1;33m:\u001b[0m\u001b[1;33m\u001b[0m\u001b[1;33m\u001b[0m\u001b[0m\n\u001b[0m\u001b[0;32m      4\u001b[0m     \u001b[1;32mif\u001b[0m \u001b[0mf_name\u001b[0m\u001b[1;33m.\u001b[0m\u001b[0mstartswith\u001b[0m\u001b[1;33m(\u001b[0m\u001b[1;34m'.ipynb'\u001b[0m\u001b[1;33m)\u001b[0m\u001b[1;33m:\u001b[0m\u001b[1;33m\u001b[0m\u001b[1;33m\u001b[0m\u001b[0m\n\u001b[0;32m      5\u001b[0m         \u001b[0mprint\u001b[0m\u001b[1;33m(\u001b[0m\u001b[0mf_name\u001b[0m\u001b[1;33m)\u001b[0m\u001b[1;33m\u001b[0m\u001b[1;33m\u001b[0m\u001b[0m\n",
      "\u001b[1;31mFileNotFoundError\u001b[0m: [WinError 3] The system cannot find the path specified: 'testfolder/'"
     ]
    }
   ],
   "source": [
    "import os\n",
    "dirpath='Git/'\n",
    "for f_name in os.listdir(dirpath):\n",
    "    if f_name.startswith('.ipynb'):\n",
    "        print(f_name)"
   ]
  },
  {
   "cell_type": "markdown",
   "metadata": {},
   "source": [
    "### Deleting files and Directories"
   ]
  },
  {
   "cell_type": "code",
   "execution_count": 38,
   "metadata": {},
   "outputs": [
    {
     "data": {
      "text/plain": [
       "'C:\\\\Users\\\\245\\\\testfolder'"
      ]
     },
     "execution_count": 38,
     "metadata": {},
     "output_type": "execute_result"
    }
   ],
   "source": [
    "pwd"
   ]
  },
  {
   "cell_type": "code",
   "execution_count": 39,
   "metadata": {},
   "outputs": [
    {
     "name": "stdout",
     "output_type": "stream",
     "text": [
      "C:\\Users\\245\n"
     ]
    }
   ],
   "source": [
    "cd .."
   ]
  },
  {
   "cell_type": "code",
   "execution_count": null,
   "metadata": {},
   "outputs": [],
   "source": [
    "import os\n",
    "data_file='file1.txt' # Give the entire path c:\\\\Users\\\\245\\\\filename\n",
    "os.remove(data_file)"
   ]
  },
  {
   "cell_type": "code",
   "execution_count": 42,
   "metadata": {},
   "outputs": [
    {
     "name": "stdout",
     "output_type": "stream",
     "text": [
      " Volume in drive C has no label.\n",
      " Volume Serial Number is 64F8-544A\n",
      "\n",
      " Directory of C:\\Users\\245\n",
      "\n",
      "11-07-2019  15:20    <DIR>          .\n",
      "11-07-2019  15:20    <DIR>          ..\n",
      "07-05-2019  09:44    <DIR>          .anaconda\n",
      "17-03-2017  10:44               145 .appletviewer\n",
      "21-05-2019  16:41               775 .bash_history\n",
      "02-11-2017  15:19                 0 .cdtclient\n",
      "07-05-2019  09:59    <DIR>          .conda\n",
      "26-06-2019  16:51                43 .condarc\n",
      "21-05-2019  15:49                62 .gitconfig\n",
      "11-07-2019  09:05    <DIR>          .ipynb_checkpoints\n",
      "06-05-2019  09:43    <DIR>          .ipython\n",
      "09-05-2019  12:02    <DIR>          .jupyter\n",
      "18-05-2019  11:12    <DIR>          .matplotlib\n",
      "21-11-2018  11:25    <DIR>          .oracle_jre_usage\n",
      "15-05-2019  12:48    <DIR>          __pycache__\n",
      "11-07-2019  15:20            41,026 11-07-2019.ipynb\n",
      "10-07-2019  14:50            12,988 9-07-2019.ipynb\n",
      "08-05-2019  10:11    <DIR>          Anaconda3\n",
      "21-06-2019  04:33             1,025 arjun.ipynb\n",
      "09-05-2019  09:35    <DIR>          Contacts\n",
      "11-07-2019  10:26                16 data.txt\n",
      "06-07-2019  15:48    <DIR>          Desktop\n",
      "08-07-2019  17:00    <DIR>          Documents\n",
      "28-06-2019  14:07    <DIR>          Downloads\n",
      "04-04-2017  12:03    <DIR>          exam\n",
      "09-05-2019  09:35    <DIR>          Favorites\n",
      "11-07-2019  10:25               228 file2.txt\n",
      "18-05-2019  15:59                 0 hack.csv\n",
      "09-05-2019  09:35    <DIR>          Links\n",
      "09-05-2019  09:35    <DIR>          Music\n",
      "09-05-2019  09:35    <DIR>          Pictures\n",
      "02-01-2017  10:09           186,102 proj class diagram.md~\n",
      "02-01-2017  11:23           186,108 proj class diagram.mdl\n",
      "11-07-2019  09:17            26,900 python (10-07-2019).ipynb\n",
      "08-07-2019  09:59             8,212 python Day 6(06-07-2019).ipynb\n",
      "08-07-2019  16:01            10,977 python day 8 (8-09-2019).ipynb\n",
      "19-05-2019  11:11    <DIR>          Python Programming\n",
      "15-05-2019  14:02               555 PythonScripts.ipynb\n",
      "11-01-2019  15:04           579,211 red-tulip-wallpapers-62192-3063278.jpg\n",
      "23-01-2017  09:28           187,644 s.mdl\n",
      "09-05-2019  09:35    <DIR>          Saved Games\n",
      "09-05-2019  09:35    <DIR>          Searches\n",
      "11-07-2019  14:45    <DIR>          singleDirectory\n",
      "15-05-2019  17:14                48 srtingfunction.py\n",
      "24-06-2019  04:04             6,190 sup.ipynb\n",
      "11-07-2019  15:01    <DIR>          testfolder\n",
      "12-05-2019  12:14    <DIR>          Untitled Folder\n",
      "12-05-2019  12:15    <DIR>          Untitled Folder 1\n",
      "16-05-2019  13:51    <DIR>          Untitled Folder 2\n",
      "15-05-2019  13:54    <DIR>          Untitled Folder 3\n",
      "06-05-2019  09:43                72 Untitled.ipynb\n",
      "08-05-2019  10:08                 0 untitled.txt\n",
      "07-05-2019  09:46                72 Untitled1.ipynb\n",
      "11-05-2019  15:01            10,076 Untitled10.ipynb\n",
      "12-05-2019  09:29                72 Untitled11.ipynb\n",
      "12-05-2019  11:30             2,470 Untitled12.ipynb\n",
      "13-05-2019  09:43             3,647 Untitled13.ipynb\n",
      "14-05-2019  11:13             1,231 Untitled14.ipynb\n",
      "18-05-2019  16:03             2,692 Untitled15.ipynb\n",
      "21-06-2019  20:56               818 Untitled16.ipynb\n",
      "21-06-2019  04:23               856 Untitled17.ipynb\n",
      "21-06-2019  05:26               555 Untitled18.ipynb\n",
      "21-06-2019  05:26               555 Untitled19.ipynb\n",
      "08-05-2019  12:29                72 Untitled2.ipynb\n",
      "21-06-2019  21:26                72 Untitled20.ipynb\n",
      "21-06-2019  23:13             3,167 Untitled21.ipynb\n",
      "21-06-2019  23:35                72 Untitled22.ipynb\n",
      "22-06-2019  02:46             1,508 Untitled23.ipynb\n",
      "23-06-2019  21:53             1,459 Untitled24.ipynb\n",
      "23-06-2019  21:32                72 Untitled25.ipynb\n",
      "25-06-2019  14:50             1,590 Untitled26.ipynb\n",
      "26-06-2019  16:48             1,011 Untitled27.ipynb\n",
      "06-07-2019  11:24                72 Untitled28.ipynb\n",
      "21-06-2019  23:19               555 Untitled3.ipynb\n",
      "08-05-2019  13:56                72 Untitled4.ipynb\n",
      "08-05-2019  13:58                72 Untitled5.ipynb\n",
      "08-05-2019  13:59                72 Untitled6.ipynb\n",
      "09-05-2019  09:43               796 Untitled7.ipynb\n",
      "09-05-2019  12:37             8,972 Untitled8.ipynb\n",
      "10-05-2019  10:55             2,863 Untitled9.ipynb\n",
      "09-05-2019  09:35    <DIR>          Videos\n",
      "02-01-2017  13:10    <DIR>          workspace\n",
      "02-01-2017  13:41    <DIR>          workspace1\n",
      "              51 File(s)      1,293,868 bytes\n",
      "              32 Dir(s)  77,901,496,320 bytes free\n"
     ]
    }
   ],
   "source": [
    "ls"
   ]
  },
  {
   "cell_type": "code",
   "execution_count": 3,
   "metadata": {},
   "outputs": [
    {
     "ename": "OSError",
     "evalue": "[WinError 145] The directory is not empty: 'testfolder'",
     "output_type": "error",
     "traceback": [
      "\u001b[1;31m---------------------------------------------------------------------------\u001b[0m",
      "\u001b[1;31mOSError\u001b[0m                                   Traceback (most recent call last)",
      "\u001b[1;32m<ipython-input-3-6a2b7104006f>\u001b[0m in \u001b[0;36m<module>\u001b[1;34m\u001b[0m\n\u001b[0;32m      1\u001b[0m \u001b[0mdata_dir\u001b[0m\u001b[1;33m=\u001b[0m\u001b[1;34m'testfolder'\u001b[0m\u001b[1;33m\u001b[0m\u001b[1;33m\u001b[0m\u001b[0m\n\u001b[1;32m----> 2\u001b[1;33m \u001b[0mos\u001b[0m\u001b[1;33m.\u001b[0m\u001b[0mrmdir\u001b[0m\u001b[1;33m(\u001b[0m\u001b[0mdata_dir\u001b[0m\u001b[1;33m)\u001b[0m\u001b[1;33m\u001b[0m\u001b[1;33m\u001b[0m\u001b[0m\n\u001b[0m",
      "\u001b[1;31mOSError\u001b[0m: [WinError 145] The directory is not empty: 'testfolder'"
     ]
    }
   ],
   "source": [
    "data_dir='testfolder'\n",
    "os.rmdir(data_dir)"
   ]
  },
  {
   "cell_type": "code",
   "execution_count": 4,
   "metadata": {},
   "outputs": [
    {
     "name": "stdout",
     "output_type": "stream",
     "text": [
      " Volume in drive C has no label.\n",
      " Volume Serial Number is 64F8-544A\n",
      "\n",
      " Directory of C:\\Users\\245\n",
      "\n",
      "11-07-2019  15:26    <DIR>          .\n",
      "11-07-2019  15:26    <DIR>          ..\n",
      "07-05-2019  09:44    <DIR>          .anaconda\n",
      "17-03-2017  10:44               145 .appletviewer\n",
      "21-05-2019  16:41               775 .bash_history\n",
      "02-11-2017  15:19                 0 .cdtclient\n",
      "07-05-2019  09:59    <DIR>          .conda\n",
      "26-06-2019  16:51                43 .condarc\n",
      "21-05-2019  15:49                62 .gitconfig\n",
      "11-07-2019  09:05    <DIR>          .ipynb_checkpoints\n",
      "06-05-2019  09:43    <DIR>          .ipython\n",
      "09-05-2019  12:02    <DIR>          .jupyter\n",
      "18-05-2019  11:12    <DIR>          .matplotlib\n",
      "21-11-2018  11:25    <DIR>          .oracle_jre_usage\n",
      "15-05-2019  12:48    <DIR>          __pycache__\n",
      "11-07-2019  15:26            47,613 11-07-2019.ipynb\n",
      "10-07-2019  14:50            12,988 9-07-2019.ipynb\n",
      "08-05-2019  10:11    <DIR>          Anaconda3\n",
      "21-06-2019  04:33             1,025 arjun.ipynb\n",
      "09-05-2019  09:35    <DIR>          Contacts\n",
      "11-07-2019  10:26                16 data.txt\n",
      "06-07-2019  15:48    <DIR>          Desktop\n",
      "08-07-2019  17:00    <DIR>          Documents\n",
      "28-06-2019  14:07    <DIR>          Downloads\n",
      "04-04-2017  12:03    <DIR>          exam\n",
      "09-05-2019  09:35    <DIR>          Favorites\n",
      "11-07-2019  10:25               228 file2.txt\n",
      "18-05-2019  15:59                 0 hack.csv\n",
      "09-05-2019  09:35    <DIR>          Links\n",
      "09-05-2019  09:35    <DIR>          Music\n",
      "09-05-2019  09:35    <DIR>          Pictures\n",
      "02-01-2017  10:09           186,102 proj class diagram.md~\n",
      "02-01-2017  11:23           186,108 proj class diagram.mdl\n",
      "11-07-2019  09:17            26,900 python (10-07-2019).ipynb\n",
      "08-07-2019  09:59             8,212 python Day 6(06-07-2019).ipynb\n",
      "08-07-2019  16:01            10,977 python day 8 (8-09-2019).ipynb\n",
      "19-05-2019  11:11    <DIR>          Python Programming\n",
      "15-05-2019  14:02               555 PythonScripts.ipynb\n",
      "11-01-2019  15:04           579,211 red-tulip-wallpapers-62192-3063278.jpg\n",
      "23-01-2017  09:28           187,644 s.mdl\n",
      "09-05-2019  09:35    <DIR>          Saved Games\n",
      "09-05-2019  09:35    <DIR>          Searches\n",
      "11-07-2019  14:45    <DIR>          singleDirectory\n",
      "15-05-2019  17:14                48 srtingfunction.py\n",
      "24-06-2019  04:04             6,190 sup.ipynb\n",
      "11-07-2019  15:01    <DIR>          testfolder\n",
      "12-05-2019  12:14    <DIR>          Untitled Folder\n",
      "12-05-2019  12:15    <DIR>          Untitled Folder 1\n",
      "16-05-2019  13:51    <DIR>          Untitled Folder 2\n",
      "15-05-2019  13:54    <DIR>          Untitled Folder 3\n",
      "06-05-2019  09:43                72 Untitled.ipynb\n",
      "08-05-2019  10:08                 0 untitled.txt\n",
      "07-05-2019  09:46                72 Untitled1.ipynb\n",
      "11-05-2019  15:01            10,076 Untitled10.ipynb\n",
      "12-05-2019  09:29                72 Untitled11.ipynb\n",
      "12-05-2019  11:30             2,470 Untitled12.ipynb\n",
      "13-05-2019  09:43             3,647 Untitled13.ipynb\n",
      "14-05-2019  11:13             1,231 Untitled14.ipynb\n",
      "18-05-2019  16:03             2,692 Untitled15.ipynb\n",
      "21-06-2019  20:56               818 Untitled16.ipynb\n",
      "21-06-2019  04:23               856 Untitled17.ipynb\n",
      "21-06-2019  05:26               555 Untitled18.ipynb\n",
      "21-06-2019  05:26               555 Untitled19.ipynb\n",
      "08-05-2019  12:29                72 Untitled2.ipynb\n",
      "21-06-2019  21:26                72 Untitled20.ipynb\n",
      "21-06-2019  23:13             3,167 Untitled21.ipynb\n",
      "21-06-2019  23:35                72 Untitled22.ipynb\n",
      "22-06-2019  02:46             1,508 Untitled23.ipynb\n",
      "23-06-2019  21:53             1,459 Untitled24.ipynb\n",
      "23-06-2019  21:32                72 Untitled25.ipynb\n",
      "25-06-2019  14:50             1,590 Untitled26.ipynb\n",
      "26-06-2019  16:48             1,011 Untitled27.ipynb\n",
      "06-07-2019  11:24                72 Untitled28.ipynb\n",
      "21-06-2019  23:19               555 Untitled3.ipynb\n",
      "08-05-2019  13:56                72 Untitled4.ipynb\n",
      "08-05-2019  13:58                72 Untitled5.ipynb\n",
      "08-05-2019  13:59                72 Untitled6.ipynb\n",
      "09-05-2019  09:43               796 Untitled7.ipynb\n",
      "09-05-2019  12:37             8,972 Untitled8.ipynb\n",
      "10-05-2019  10:55             2,863 Untitled9.ipynb\n",
      "09-05-2019  09:35    <DIR>          Videos\n",
      "02-01-2017  13:10    <DIR>          workspace\n",
      "02-01-2017  13:41    <DIR>          workspace1\n",
      "              51 File(s)      1,300,455 bytes\n",
      "              32 Dir(s)  77,901,291,520 bytes free\n"
     ]
    }
   ],
   "source": [
    "ls"
   ]
  },
  {
   "cell_type": "code",
   "execution_count": null,
   "metadata": {},
   "outputs": [],
   "source": [
    "import shutil # Delete the  tree of structure of folder\n",
    "data_dir='2019'\n",
    "shutil.rmtree(data_dir)"
   ]
  },
  {
   "cell_type": "markdown",
   "metadata": {},
   "source": [
    "###  Regular expressions\n",
    "- Used to specific pattern matching\n",
    "- symbolic notations of pattern\n",
    "    -patterns (RE) represents  "
   ]
  },
  {
   "cell_type": "code",
   "execution_count": null,
   "metadata": {},
   "outputs": [],
   "source": []
  }
 ],
 "metadata": {
  "kernelspec": {
   "display_name": "Python 3",
   "language": "python",
   "name": "python3"
  }
 },
 "nbformat": 4,
 "nbformat_minor": 2
}
