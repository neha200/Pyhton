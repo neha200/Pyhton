{
 "cells": [
  {
   "cell_type": "code",
   "execution_count": 1,
   "metadata": {},
   "outputs": [
    {
     "name": "stdout",
     "output_type": "stream",
     "text": [
      "1 2 3 4 6 12 "
     ]
    }
   ],
   "source": [
    "#find the factors of a given number\n",
    "#12 --> 1 2 3 4 6 12\n",
    "def factorialist(n):\n",
    "    for i in range(1,n+1):\n",
    "        if n%i==0:\n",
    "            print (i,end=\" \" )\n",
    "    return\n",
    "factorialist(12)\n",
    "            "
   ]
  },
  {
   "cell_type": "code",
   "execution_count": 6,
   "metadata": {},
   "outputs": [
    {
     "data": {
      "text/plain": [
       "False"
      ]
     },
     "execution_count": 6,
     "metadata": {},
     "output_type": "execute_result"
    }
   ],
   "source": [
    "#given number is prime or not\n",
    "def isprime(n):\n",
    "    flag=True\n",
    "    for i in range(2,n//2+1):\n",
    "        if n%i==0:\n",
    "            flag=False\n",
    "            return flag\n",
    "    return flag\n",
    "isprime(6)"
   ]
  },
  {
   "cell_type": "code",
   "execution_count": 8,
   "metadata": {},
   "outputs": [
    {
     "data": {
      "text/plain": [
       "4"
      ]
     },
     "execution_count": 8,
     "metadata": {},
     "output_type": "execute_result"
    }
   ],
   "source": [
    "#function to find prime numbers from 1-10\n",
    "#10 -- 4 (2,3,5,7)\n",
    "def isprimecount(n):\n",
    "    cnt=0\n",
    "    for a in range(2,n+1):\n",
    "        k=0\n",
    "        for i in range(2,a//2+1):\n",
    "            if a%i==0:\n",
    "                k=k+1\n",
    "        if(k<=0):\n",
    "            cnt=cnt+1\n",
    "    return(cnt)\n",
    "isprimecount(10)\n",
    "        "
   ]
  },
  {
   "cell_type": "code",
   "execution_count": 3,
   "metadata": {},
   "outputs": [
    {
     "name": "stdout",
     "output_type": "stream",
     "text": [
      "No\n",
      "Yes\n"
     ]
    }
   ],
   "source": [
    "#individual digit factorial sum is same as original number\n",
    "#examples :-\n",
    "#145 -- Yes (5!+4!+1!)\n",
    "#123 -- No (3!+2!+1!)\n",
    "def factorial(n):\n",
    "    fact=1\n",
    "    for i in range(2,n+1):\n",
    "        fact*=i\n",
    "    return fact\n",
    "def digitfactsum(n):\n",
    "    sum=0\n",
    "    buffer=n\n",
    "    while n!=0:\n",
    "        r=n%10\n",
    "        sum+=factorial(r)\n",
    "        n=n//10\n",
    "    if sum==buffer:\n",
    "        return \"Yes\"\n",
    "    else:\n",
    "        return \"No\"\n",
    "print(digitfactsum(123))\n",
    "print(digitfactsum(145))"
   ]
  },
  {
   "cell_type": "code",
   "execution_count": 9,
   "metadata": {},
   "outputs": [
    {
     "data": {
      "text/plain": [
       "9"
      ]
     },
     "execution_count": 9,
     "metadata": {},
     "output_type": "execute_result"
    }
   ],
   "source": [
    "#function to return the count of palindrome number two limits\n",
    "#input -- 1 10\n",
    "#output -- 9 (1 2 3 4 5 6 7 8 9)\n",
    "\n",
    "#input -- 11 100\n",
    "#output -- 9 (11 22 33 .. 99)\n",
    "def ispalindrome(n):\n",
    "    pal=0\n",
    "    buffer=n\n",
    "    while n!=0:\n",
    "        r=n%10\n",
    "        pal=pal*10+r\n",
    "        n=n//10\n",
    "    if buffer==pal:\n",
    "        return True\n",
    "    else:\n",
    "        return False\n",
    "    return\n",
    "def countpalindrome(lb,ub):\n",
    "    cnt=0\n",
    "    while lb!=ub:\n",
    "        #implement logic\n",
    "        if ispalindrome(lb)==True:\n",
    "            cnt=cnt+1\n",
    "        lb=lb+1\n",
    "    return cnt\n",
    "countpalindrome(1,10)"
   ]
  },
  {
   "cell_type": "code",
   "execution_count": 14,
   "metadata": {},
   "outputs": [
    {
     "name": "stdout",
     "output_type": "stream",
     "text": [
      "6 \n",
      "6 28 496 \n"
     ]
    }
   ],
   "source": [
    "#function to generate perfect numbers between the given range\n",
    "#Perfect number: sum of all its factors same as original number\n",
    "#example -- 6 - 1 2 3 (1+2+3)\n",
    "#input 1 10\n",
    "#output -- 6\n",
    "def factorslist(n):\n",
    "    sum=0\n",
    "    for i in range(1,n//2+1):\n",
    "        if n%i==0:\n",
    "            sum=sum+i\n",
    "    return sum\n",
    "def isperfect(n):\n",
    "    if factorslist(n)==n:\n",
    "        return True\n",
    "    return False\n",
    "def generatePerfect(lb,ub):\n",
    "    for x in range(lb,ub+1):\n",
    "        if isperfect(x):\n",
    "            print(x,end=\" \")\n",
    "    print()\n",
    "    return\n",
    "\n",
    "generatePerfect(1,10)\n",
    "generatePerfect(1,1000)"
   ]
  },
  {
   "cell_type": "code",
   "execution_count": 20,
   "metadata": {},
   "outputs": [
    {
     "name": "stdout",
     "output_type": "stream",
     "text": [
      "P H O "
     ]
    }
   ],
   "source": [
    "#function to print upper case characters\n",
    "#example: pyTHon\n",
    "#ASCII:-\n",
    "#A-Z: 65-90\n",
    "#a-z:97-122\n",
    "#0-9: 48-57\n",
    "#space:32\n",
    "def printuppercase(x):\n",
    "    for i in range(len(x)):\n",
    "        if ord(x[i])>=65 and ord(x[i])<=90:\n",
    "            print(x[i],end=\" \")\n",
    "    return\n",
    "printuppercase(\"PytHOn\")"
   ]
  },
  {
   "cell_type": "code",
   "execution_count": 4,
   "metadata": {},
   "outputs": [
    {
     "name": "stdout",
     "output_type": "stream",
     "text": [
      "samecount\n",
      "programming\n"
     ]
    }
   ],
   "source": [
    "#Function to print \"python\" if the count of \n",
    "#upper case and lower case is same\n",
    "#print \"programming\" if not same\n",
    "#example: PyThOn -- 3 P T O -- same count\n",
    "#                   3 y h n\n",
    "#PyThon -- 2 P T     -- programming\n",
    "#       -- 4 y h o n\n",
    "def findCount(str):\n",
    "    cntUpper=0\n",
    "    cntLower=0\n",
    "    for x in range(len(str)):\n",
    "        \n",
    "        if ord(str[x])>=65 and ord(str[x])<=90:\n",
    "            cntUpper=cntUpper+1\n",
    "        elif ord(str[x])>=97 and ord(str[x])<=122:\n",
    "            cntLower=cntLower+1\n",
    "    if cntUpper==cntLower:\n",
    "        return \"samecount\"\n",
    "    else:\n",
    "        return \"programming\"\n",
    "    return \n",
    "print(findCount('PyThOn'))#samecount\n",
    "print(findCount('PythOn'))#programming"
   ]
  },
  {
   "cell_type": "code",
   "execution_count": 5,
   "metadata": {},
   "outputs": [
    {
     "name": "stdout",
     "output_type": "stream",
     "text": [
      "1 8 8 9 "
     ]
    }
   ],
   "source": [
    "#Extract digits from given string\n",
    "#example:\n",
    "#input: appli1cat8ion89\n",
    "#output: 1 8 8 9\n",
    "def extractDigits(str):\n",
    "    for x in range(len(str)):\n",
    "        if ord(str[x])>=48 and ord(str[x])<=57:\n",
    "            print(str[x],end=\" \")\n",
    "    return\n",
    "extractDigits(\"Appli1cat8ion89\")#1 8 8 9"
   ]
  },
  {
   "cell_type": "code",
   "execution_count": 11,
   "metadata": {},
   "outputs": [
    {
     "data": {
      "text/plain": [
       "26"
      ]
     },
     "execution_count": 11,
     "metadata": {},
     "output_type": "execute_result"
    }
   ],
   "source": [
    "#function to return the sum of the digits in a given string\n",
    "#Example:\n",
    "#input:Appli1cat8ion89\n",
    "#output: 26 (1+8+8+9)\n",
    "def SumOfDigits(str):\n",
    "    sum=0\n",
    "    for x in range(len(str)):\n",
    "        if ord(str[x])>=48 and ord(str[x])<=57:\n",
    "            sum=sum+(ord(str[x])-48)\n",
    "    return sum\n",
    "SumOfDigits('Appli1cat8ion89')"
   ]
  },
  {
   "cell_type": "code",
   "execution_count": 16,
   "metadata": {},
   "outputs": [
    {
     "data": {
      "text/plain": [
       "16"
      ]
     },
     "execution_count": 16,
     "metadata": {},
     "output_type": "execute_result"
    }
   ],
   "source": [
    "#function to return the sum of the digits in a given string\n",
    "#Example:\n",
    "#input:Appli1cat8ion89\n",
    "#output: 16 (8+8)\n",
    "def SumOfEvenDigits(str):\n",
    "    sum=0\n",
    "    for x in range(len(str)):\n",
    "        if ord(str[x])>=48 and ord(str[x])<=57:\n",
    "            if(ord(str[x])-48) % 2 == 0:\n",
    "                sum=sum+(ord(str[x])-48)\n",
    "    return sum\n",
    "SumOfEvenDigits('Appli1cat8ion89')"
   ]
  },
  {
   "cell_type": "code",
   "execution_count": 17,
   "metadata": {},
   "outputs": [
    {
     "ename": "SyntaxError",
     "evalue": "keyword can't be an expression (<ipython-input-17-4fc252fb52c4>, line 16)",
     "output_type": "error",
     "traceback": [
      "\u001b[1;36m  File \u001b[1;32m\"<ipython-input-17-4fc252fb52c4>\"\u001b[1;36m, line \u001b[1;32m16\u001b[0m\n\u001b[1;33m    print(char(ord(s[x])=32),end=\" \")\u001b[0m\n\u001b[1;37m              ^\u001b[0m\n\u001b[1;31mSyntaxError\u001b[0m\u001b[1;31m:\u001b[0m keyword can't be an expression\n"
     ]
    }
   ],
   "source": [
    "#function to print the specific word in uppercase\n",
    "#example:\n",
    "#input: Python made easy\n",
    "#output:MADE\n",
    "#input: learn python programming\n",
    "#output: PYTHON\n",
    "def upper(str):\n",
    "    spacecnt=0\n",
    "    for x in range(len(s)):\n",
    "        if order (s[x])==32:\n",
    "            spacecnt+=1\n",
    "        if spacecnt==1:\n",
    "            if ord(s[x])>=65 and ord(s[x])<=90:\n",
    "                    print (s[x],end=\" \")\n",
    "            elif ord(s[x])>=97 and ord(s[x])<=122:\n",
    "                        print(char(ord(s[x])=32),end=\" \")\n",
    "            if cnt==2:\n",
    "                break\n",
    "    return\n",
    "upper(\"Python made easy\")"
   ]
  },
  {
   "cell_type": "code",
   "execution_count": null,
   "metadata": {},
   "outputs": [],
   "source": []
  }
 ],
 "metadata": {
  "kernelspec": {
   "display_name": "Python 3",
   "language": "python",
   "name": "python3"
  },
  "language_info": {
   "codemirror_mode": {
    "name": "ipython",
    "version": 3
   },
   "file_extension": ".py",
   "mimetype": "text/x-python",
   "name": "python",
   "nbconvert_exporter": "python",
   "pygments_lexer": "ipython3",
   "version": "3.7.3"
  }
 },
 "nbformat": 4,
 "nbformat_minor": 2
}
